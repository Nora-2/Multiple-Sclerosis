{
 "cells": [
  {
   "cell_type": "code",
   "execution_count": 1,
   "id": "85ab3dd2",
   "metadata": {
    "execution": {
     "iopub.execute_input": "2023-02-22T12:09:30.441970Z",
     "iopub.status.busy": "2023-02-22T12:09:30.441053Z",
     "iopub.status.idle": "2023-02-22T12:09:44.157834Z",
     "shell.execute_reply": "2023-02-22T12:09:44.156868Z"
    },
    "papermill": {
     "duration": 13.726619,
     "end_time": "2023-02-22T12:09:44.160355",
     "exception": false,
     "start_time": "2023-02-22T12:09:30.433736",
     "status": "completed"
    },
    "tags": []
   },
   "outputs": [],
   "source": [
    "\"\"\"\n",
    "Anomaly localization in images using the global average pooling layer.\n",
    "Binary classification - Good vs. bad images (control vs ms)\n",
    "This code uses the multiple-sclerosis dataset \n",
    "\"\"\"\n",
    "\n",
    "import matplotlib.pyplot as plt\n",
    "from tensorflow.keras.models import Model\n",
    "from tensorflow.keras.layers import GlobalAveragePooling2D, Dense\n",
    "from tensorflow.keras.applications import vgg16\n",
    "from tensorflow.keras.optimizers import Adam, SGD\n",
    "import scipy  #Used to upsample our image\n",
    "import glob\n",
    "import os\n",
    "from PIL import Image\n",
    "\n",
    "\n",
    "\n",
    "import numpy as np \n",
    "import glob\n",
    "from sklearn.metrics import confusion_matrix , accuracy_score\n",
    "import cv2\n",
    "from sklearn.model_selection import train_test_split\n",
    "from sklearn.preprocessing import StandardScaler\n",
    "from numpy.linalg import eigh"
   ]
  },
  {
   "cell_type": "code",
   "execution_count": 2,
   "id": "f8ca1cef",
   "metadata": {
    "execution": {
     "iopub.execute_input": "2023-02-22T12:09:44.171971Z",
     "iopub.status.busy": "2023-02-22T12:09:44.171452Z",
     "iopub.status.idle": "2023-02-22T12:09:44.176785Z",
     "shell.execute_reply": "2023-02-22T12:09:44.175132Z"
    },
    "papermill": {
     "duration": 0.013284,
     "end_time": "2023-02-22T12:09:44.178942",
     "exception": false,
     "start_time": "2023-02-22T12:09:44.165658",
     "status": "completed"
    },
    "tags": []
   },
   "outputs": [],
   "source": [
    "dataset = []  #Many ways to handle data, you can use pandas. Here, we are using a list format.  \n",
    "label = []  #Placeholders to define add labels. We will add 1 to all parasitized images and 0 to uninfected."
   ]
  },
  {
   "cell_type": "code",
   "execution_count": 3,
   "id": "9b6bff26",
   "metadata": {
    "execution": {
     "iopub.execute_input": "2023-02-22T12:09:44.189949Z",
     "iopub.status.busy": "2023-02-22T12:09:44.189661Z",
     "iopub.status.idle": "2023-02-22T12:10:13.840085Z",
     "shell.execute_reply": "2023-02-22T12:10:13.839079Z"
    },
    "papermill": {
     "duration": 29.658746,
     "end_time": "2023-02-22T12:10:13.842514",
     "exception": false,
     "start_time": "2023-02-22T12:09:44.183768",
     "status": "completed"
    },
    "tags": []
   },
   "outputs": [],
   "source": [
    "\n",
    "path = '/kaggle/input/multiple-sclerosis/Multiple Sclerosis/Control-Axial/*'\n",
    "for f in glob.iglob(path):\n",
    "    img1=cv2.imread(f)\n",
    "    img1 = Image.fromarray(img1, 'RGB')\n",
    "    img1 = img1.resize((224, 224))\n",
    "    dataset.append(np.array(img1))\n",
    "    label.append(0)"
   ]
  },
  {
   "cell_type": "code",
   "execution_count": 4,
   "id": "4362c8b5",
   "metadata": {
    "execution": {
     "iopub.execute_input": "2023-02-22T12:10:13.855391Z",
     "iopub.status.busy": "2023-02-22T12:10:13.853791Z",
     "iopub.status.idle": "2023-02-22T12:10:44.119877Z",
     "shell.execute_reply": "2023-02-22T12:10:44.118850Z"
    },
    "papermill": {
     "duration": 30.27444,
     "end_time": "2023-02-22T12:10:44.122266",
     "exception": false,
     "start_time": "2023-02-22T12:10:13.847826",
     "status": "completed"
    },
    "tags": []
   },
   "outputs": [],
   "source": [
    "\n",
    "path = '/kaggle/input/multiple-sclerosis/Multiple Sclerosis/Control-Sagittal/*'\n",
    "for f in glob.iglob(path):\n",
    "    img3=cv2.imread(f)\n",
    "    img3 = Image.fromarray(img3, 'RGB')\n",
    "    img3 = img3.resize((224, 224))\n",
    "    dataset.append(np.array(img3))\n",
    "    label.append(2)"
   ]
  },
  {
   "cell_type": "code",
   "execution_count": 5,
   "id": "4a2c2d21",
   "metadata": {
    "execution": {
     "iopub.execute_input": "2023-02-22T12:10:44.133444Z",
     "iopub.status.busy": "2023-02-22T12:10:44.133116Z",
     "iopub.status.idle": "2023-02-22T12:11:06.088816Z",
     "shell.execute_reply": "2023-02-22T12:11:06.087728Z"
    },
    "papermill": {
     "duration": 21.963844,
     "end_time": "2023-02-22T12:11:06.091190",
     "exception": false,
     "start_time": "2023-02-22T12:10:44.127346",
     "status": "completed"
    },
    "tags": []
   },
   "outputs": [],
   "source": [
    "\n",
    "path = '/kaggle/input/multiple-sclerosis/Multiple Sclerosis/MS-Sagittal/*'\n",
    "for f in glob.iglob(path):\n",
    "    img4=cv2.imread(f)\n",
    "    img4 = Image.fromarray(img4, 'RGB')\n",
    "    img4 = img4.resize((224, 224))\n",
    "    dataset.append(np.array(img4))\n",
    "    label.append(3)"
   ]
  },
  {
   "cell_type": "code",
   "execution_count": 6,
   "id": "904337da",
   "metadata": {
    "execution": {
     "iopub.execute_input": "2023-02-22T12:11:06.103948Z",
     "iopub.status.busy": "2023-02-22T12:11:06.102377Z",
     "iopub.status.idle": "2023-02-22T12:11:06.112048Z",
     "shell.execute_reply": "2023-02-22T12:11:06.111124Z"
    },
    "papermill": {
     "duration": 0.017577,
     "end_time": "2023-02-22T12:11:06.113913",
     "exception": false,
     "start_time": "2023-02-22T12:11:06.096336",
     "status": "completed"
    },
    "tags": []
   },
   "outputs": [
    {
     "data": {
      "text/plain": [
       "2777"
      ]
     },
     "execution_count": 6,
     "metadata": {},
     "output_type": "execute_result"
    }
   ],
   "source": [
    "len(dataset)"
   ]
  },
  {
   "cell_type": "code",
   "execution_count": 7,
   "id": "dcb84e2b",
   "metadata": {
    "execution": {
     "iopub.execute_input": "2023-02-22T12:11:06.125055Z",
     "iopub.status.busy": "2023-02-22T12:11:06.124789Z",
     "iopub.status.idle": "2023-02-22T12:11:24.169873Z",
     "shell.execute_reply": "2023-02-22T12:11:24.168733Z"
    },
    "papermill": {
     "duration": 18.053527,
     "end_time": "2023-02-22T12:11:24.172498",
     "exception": false,
     "start_time": "2023-02-22T12:11:06.118971",
     "status": "completed"
    },
    "tags": []
   },
   "outputs": [],
   "source": [
    "path = '/kaggle/input/multiple-sclerosis/Multiple Sclerosis/MS-Axial/*'\n",
    "for f in glob.iglob(path):\n",
    "    img2=cv2.imread(f)\n",
    "    img2 = Image.fromarray(img2, 'RGB')\n",
    "    img2 = img2.resize((224, 224))\n",
    "    dataset.append(np.array(img2))\n",
    "    label.append(1)"
   ]
  },
  {
   "cell_type": "code",
   "execution_count": 8,
   "id": "78bd6e7d",
   "metadata": {
    "execution": {
     "iopub.execute_input": "2023-02-22T12:11:24.187592Z",
     "iopub.status.busy": "2023-02-22T12:11:24.185709Z",
     "iopub.status.idle": "2023-02-22T12:11:24.193317Z",
     "shell.execute_reply": "2023-02-22T12:11:24.192209Z"
    },
    "papermill": {
     "duration": 0.017102,
     "end_time": "2023-02-22T12:11:24.195635",
     "exception": false,
     "start_time": "2023-02-22T12:11:24.178533",
     "status": "completed"
    },
    "tags": []
   },
   "outputs": [
    {
     "data": {
      "text/plain": [
       "3427"
      ]
     },
     "execution_count": 8,
     "metadata": {},
     "output_type": "execute_result"
    }
   ],
   "source": [
    "len(dataset)"
   ]
  },
  {
   "cell_type": "code",
   "execution_count": 9,
   "id": "99a5f9d3",
   "metadata": {
    "execution": {
     "iopub.execute_input": "2023-02-22T12:11:24.208673Z",
     "iopub.status.busy": "2023-02-22T12:11:24.208373Z",
     "iopub.status.idle": "2023-02-22T12:11:24.373933Z",
     "shell.execute_reply": "2023-02-22T12:11:24.372898Z"
    },
    "papermill": {
     "duration": 0.174923,
     "end_time": "2023-02-22T12:11:24.376443",
     "exception": false,
     "start_time": "2023-02-22T12:11:24.201520",
     "status": "completed"
    },
    "tags": []
   },
   "outputs": [],
   "source": [
    "dataset = np.array(dataset)\n",
    "label = np.array(label)"
   ]
  },
  {
   "cell_type": "code",
   "execution_count": 10,
   "id": "caf39d4e",
   "metadata": {
    "execution": {
     "iopub.execute_input": "2023-02-22T12:11:24.388884Z",
     "iopub.status.busy": "2023-02-22T12:11:24.388017Z",
     "iopub.status.idle": "2023-02-22T12:11:24.545917Z",
     "shell.execute_reply": "2023-02-22T12:11:24.544846Z"
    },
    "papermill": {
     "duration": 0.166804,
     "end_time": "2023-02-22T12:11:24.548744",
     "exception": false,
     "start_time": "2023-02-22T12:11:24.381940",
     "status": "completed"
    },
    "tags": []
   },
   "outputs": [],
   "source": [
    "#Split into train and test data sets\n",
    "from sklearn.model_selection import train_test_split\n",
    "\n",
    "X_train, X_test, y_train, y_test= train_test_split(dataset, label, test_size = 0.30, random_state = 0)"
   ]
  },
  {
   "cell_type": "code",
   "execution_count": 11,
   "id": "0aaf9e40",
   "metadata": {
    "execution": {
     "iopub.execute_input": "2023-02-22T12:11:24.561283Z",
     "iopub.status.busy": "2023-02-22T12:11:24.560952Z",
     "iopub.status.idle": "2023-02-22T12:11:25.868047Z",
     "shell.execute_reply": "2023-02-22T12:11:25.866325Z"
    },
    "papermill": {
     "duration": 1.316306,
     "end_time": "2023-02-22T12:11:25.870796",
     "exception": false,
     "start_time": "2023-02-22T12:11:24.554490",
     "status": "completed"
    },
    "tags": []
   },
   "outputs": [],
   "source": [
    "X_train = X_train /255.\n",
    "X_test = X_test /255."
   ]
  },
  {
   "cell_type": "code",
   "execution_count": 12,
   "id": "5191b0c2",
   "metadata": {
    "execution": {
     "iopub.execute_input": "2023-02-22T12:11:25.882399Z",
     "iopub.status.busy": "2023-02-22T12:11:25.882053Z",
     "iopub.status.idle": "2023-02-22T12:11:25.887983Z",
     "shell.execute_reply": "2023-02-22T12:11:25.887067Z"
    },
    "papermill": {
     "duration": 0.014037,
     "end_time": "2023-02-22T12:11:25.890101",
     "exception": false,
     "start_time": "2023-02-22T12:11:25.876064",
     "status": "completed"
    },
    "tags": []
   },
   "outputs": [],
   "source": [
    "#Since we will be using categorical cross entropy loss, we need to convert our Y values to categorical. \n",
    "from tensorflow.keras.utils import to_categorical\n",
    "y_train = to_categorical(y_train)\n",
    "y_test = to_categorical(y_test)\n",
    "\n"
   ]
  },
  {
   "cell_type": "code",
   "execution_count": 13,
   "id": "da728a8e",
   "metadata": {
    "execution": {
     "iopub.execute_input": "2023-02-22T12:11:25.901486Z",
     "iopub.status.busy": "2023-02-22T12:11:25.901217Z",
     "iopub.status.idle": "2023-02-22T12:28:57.648628Z",
     "shell.execute_reply": "2023-02-22T12:28:57.647482Z"
    },
    "papermill": {
     "duration": 1051.756309,
     "end_time": "2023-02-22T12:28:57.651328",
     "exception": false,
     "start_time": "2023-02-22T12:11:25.895019",
     "status": "completed"
    },
    "tags": []
   },
   "outputs": [
    {
     "name": "stdout",
     "output_type": "stream",
     "text": [
      "Downloading data from https://storage.googleapis.com/tensorflow/keras-applications/vgg19/vgg19_weights_tf_dim_ordering_tf_kernels_notop.h5\n",
      "80134624/80134624 [==============================] - 0s 0us/step\n",
      "Model: \"model\"\n",
      "_________________________________________________________________\n",
      " Layer (type)                Output Shape              Param #   \n",
      "=================================================================\n",
      " input_1 (InputLayer)        [(None, 224, 224, 3)]     0         \n",
      "                                                                 \n",
      " block1_conv1 (Conv2D)       (None, 224, 224, 64)      1792      \n",
      "                                                                 \n",
      " block1_conv2 (Conv2D)       (None, 224, 224, 64)      36928     \n",
      "                                                                 \n",
      " block1_pool (MaxPooling2D)  (None, 112, 112, 64)      0         \n",
      "                                                                 \n",
      " block2_conv1 (Conv2D)       (None, 112, 112, 128)     73856     \n",
      "                                                                 \n",
      " block2_conv2 (Conv2D)       (None, 112, 112, 128)     147584    \n",
      "                                                                 \n",
      " block2_pool (MaxPooling2D)  (None, 56, 56, 128)       0         \n",
      "                                                                 \n",
      " block3_conv1 (Conv2D)       (None, 56, 56, 256)       295168    \n",
      "                                                                 \n",
      " block3_conv2 (Conv2D)       (None, 56, 56, 256)       590080    \n",
      "                                                                 \n",
      " block3_conv3 (Conv2D)       (None, 56, 56, 256)       590080    \n",
      "                                                                 \n",
      " block3_conv4 (Conv2D)       (None, 56, 56, 256)       590080    \n",
      "                                                                 \n",
      " block3_pool (MaxPooling2D)  (None, 28, 28, 256)       0         \n",
      "                                                                 \n",
      " block4_conv1 (Conv2D)       (None, 28, 28, 512)       1180160   \n",
      "                                                                 \n",
      " block4_conv2 (Conv2D)       (None, 28, 28, 512)       2359808   \n",
      "                                                                 \n",
      " block4_conv3 (Conv2D)       (None, 28, 28, 512)       2359808   \n",
      "                                                                 \n",
      " block4_conv4 (Conv2D)       (None, 28, 28, 512)       2359808   \n",
      "                                                                 \n",
      " block4_pool (MaxPooling2D)  (None, 14, 14, 512)       0         \n",
      "                                                                 \n",
      " block5_conv1 (Conv2D)       (None, 14, 14, 512)       2359808   \n",
      "                                                                 \n",
      " block5_conv2 (Conv2D)       (None, 14, 14, 512)       2359808   \n",
      "                                                                 \n",
      " block5_conv3 (Conv2D)       (None, 14, 14, 512)       2359808   \n",
      "                                                                 \n",
      " block5_conv4 (Conv2D)       (None, 14, 14, 512)       2359808   \n",
      "                                                                 \n",
      " block5_pool (MaxPooling2D)  (None, 7, 7, 512)         0         \n",
      "                                                                 \n",
      " flatten (Flatten)           (None, 25088)             0         \n",
      "                                                                 \n",
      " batch_normalization (BatchN  (None, 25088)            100352    \n",
      " ormalization)                                                   \n",
      "                                                                 \n",
      " dense (Dense)               (None, 128)               3211392   \n",
      "                                                                 \n",
      " dropout (Dropout)           (None, 128)               0         \n",
      "                                                                 \n",
      " dense_1 (Dense)             (None, 64)                8256      \n",
      "                                                                 \n",
      " dropout_1 (Dropout)         (None, 64)                0         \n",
      "                                                                 \n",
      " dense_2 (Dense)             (None, 132)               8580      \n",
      "                                                                 \n",
      " dense_3 (Dense)             (None, 4)                 532       \n",
      "                                                                 \n",
      "=================================================================\n",
      "Total params: 23,353,496\n",
      "Trainable params: 3,278,936\n",
      "Non-trainable params: 20,074,560\n",
      "_________________________________________________________________\n"
     ]
    },
    {
     "name": "stderr",
     "output_type": "stream",
     "text": [
      "/opt/conda/lib/python3.7/site-packages/keras/optimizers/optimizer_v2/adamax.py:95: UserWarning: The `lr` argument is deprecated, use `learning_rate` instead.\n",
      "  super(Adamax, self).__init__(name, **kwargs)\n",
      "2023-02-22 12:11:31.699528: W tensorflow/core/framework/cpu_allocator_impl.cc:82] Allocation of 1443864576 exceeds 10% of free system memory.\n",
      "2023-02-22 12:11:33.277894: W tensorflow/core/framework/cpu_allocator_impl.cc:82] Allocation of 1443864576 exceeds 10% of free system memory.\n"
     ]
    },
    {
     "name": "stdout",
     "output_type": "stream",
     "text": [
      "Epoch 1/50\n",
      "75/75 [==============================] - ETA: 0s - loss: 0.7010 - accuracy: 0.7327"
     ]
    },
    {
     "name": "stderr",
     "output_type": "stream",
     "text": [
      "2023-02-22 12:12:02.946874: W tensorflow/core/framework/cpu_allocator_impl.cc:82] Allocation of 619573248 exceeds 10% of free system memory.\n",
      "2023-02-22 12:12:03.656421: W tensorflow/core/framework/cpu_allocator_impl.cc:82] Allocation of 619573248 exceeds 10% of free system memory.\n"
     ]
    },
    {
     "name": "stdout",
     "output_type": "stream",
     "text": [
      "\n",
      "Epoch 1: accuracy improved from -inf to 0.73269, saving model to ./unet_model.h5\n",
      "75/75 [==============================] - 36s 315ms/step - loss: 0.7010 - accuracy: 0.7327 - val_loss: 0.7150 - val_accuracy: 0.7949\n",
      "Epoch 2/50\n",
      "75/75 [==============================] - ETA: 0s - loss: 0.3991 - accuracy: 0.8315\n",
      "Epoch 2: accuracy improved from 0.73269 to 0.83153, saving model to ./unet_model.h5\n",
      "75/75 [==============================] - 19s 248ms/step - loss: 0.3991 - accuracy: 0.8315 - val_loss: 0.5645 - val_accuracy: 0.7920\n",
      "Epoch 3/50\n",
      "75/75 [==============================] - ETA: 0s - loss: 0.3247 - accuracy: 0.8611\n",
      "Epoch 3: accuracy improved from 0.83153 to 0.86113, saving model to ./unet_model.h5\n",
      "75/75 [==============================] - 19s 252ms/step - loss: 0.3247 - accuracy: 0.8611 - val_loss: 0.3780 - val_accuracy: 0.8727\n",
      "Epoch 4/50\n",
      "75/75 [==============================] - ETA: 0s - loss: 0.2505 - accuracy: 0.9037\n",
      "Epoch 4: accuracy improved from 0.86113 to 0.90367, saving model to ./unet_model.h5\n",
      "75/75 [==============================] - 19s 255ms/step - loss: 0.2505 - accuracy: 0.9037 - val_loss: 0.3112 - val_accuracy: 0.8795\n",
      "Epoch 5/50\n",
      "75/75 [==============================] - ETA: 0s - loss: 0.1869 - accuracy: 0.9216\n",
      "Epoch 5: accuracy improved from 0.90367 to 0.92160, saving model to ./unet_model.h5\n",
      "75/75 [==============================] - 20s 263ms/step - loss: 0.1869 - accuracy: 0.9216 - val_loss: 0.2347 - val_accuracy: 0.9116\n",
      "Epoch 6/50\n",
      "75/75 [==============================] - ETA: 0s - loss: 0.1724 - accuracy: 0.9299\n",
      "Epoch 6: accuracy improved from 0.92160 to 0.92994, saving model to ./unet_model.h5\n",
      "75/75 [==============================] - 20s 266ms/step - loss: 0.1724 - accuracy: 0.9299 - val_loss: 0.1898 - val_accuracy: 0.9320\n",
      "Epoch 7/50\n",
      "75/75 [==============================] - ETA: 0s - loss: 0.1443 - accuracy: 0.9441\n",
      "Epoch 7: accuracy improved from 0.92994 to 0.94412, saving model to ./unet_model.h5\n",
      "75/75 [==============================] - 20s 273ms/step - loss: 0.1443 - accuracy: 0.9441 - val_loss: 0.1918 - val_accuracy: 0.9291\n",
      "Epoch 8/50\n",
      "75/75 [==============================] - ETA: 0s - loss: 0.1224 - accuracy: 0.9562\n",
      "Epoch 8: accuracy improved from 0.94412 to 0.95621, saving model to ./unet_model.h5\n",
      "75/75 [==============================] - 21s 277ms/step - loss: 0.1224 - accuracy: 0.9562 - val_loss: 0.1523 - val_accuracy: 0.9475\n",
      "Epoch 9/50\n",
      "75/75 [==============================] - ETA: 0s - loss: 0.1071 - accuracy: 0.9566\n",
      "Epoch 9: accuracy improved from 0.95621 to 0.95663, saving model to ./unet_model.h5\n",
      "75/75 [==============================] - 25s 330ms/step - loss: 0.1071 - accuracy: 0.9566 - val_loss: 0.1603 - val_accuracy: 0.9466\n",
      "Epoch 10/50\n",
      "75/75 [==============================] - ETA: 0s - loss: 0.1035 - accuracy: 0.9662\n",
      "Epoch 10: accuracy improved from 0.95663 to 0.96622, saving model to ./unet_model.h5\n",
      "75/75 [==============================] - 20s 270ms/step - loss: 0.1035 - accuracy: 0.9662 - val_loss: 0.2108 - val_accuracy: 0.9417\n",
      "Epoch 11/50\n",
      "75/75 [==============================] - ETA: 0s - loss: 0.0791 - accuracy: 0.9712\n",
      "Epoch 11: accuracy improved from 0.96622 to 0.97123, saving model to ./unet_model.h5\n",
      "75/75 [==============================] - 21s 276ms/step - loss: 0.0791 - accuracy: 0.9712 - val_loss: 0.1639 - val_accuracy: 0.9602\n",
      "Epoch 12/50\n",
      "75/75 [==============================] - ETA: 0s - loss: 0.0760 - accuracy: 0.9750\n",
      "Epoch 12: accuracy improved from 0.97123 to 0.97498, saving model to ./unet_model.h5\n",
      "75/75 [==============================] - 20s 274ms/step - loss: 0.0760 - accuracy: 0.9750 - val_loss: 0.1764 - val_accuracy: 0.9543\n",
      "Epoch 13/50\n",
      "75/75 [==============================] - ETA: 0s - loss: 0.0716 - accuracy: 0.9750\n",
      "Epoch 13: accuracy did not improve from 0.97498\n",
      "75/75 [==============================] - 20s 269ms/step - loss: 0.0716 - accuracy: 0.9750 - val_loss: 0.1497 - val_accuracy: 0.9543\n",
      "Epoch 14/50\n",
      "75/75 [==============================] - ETA: 0s - loss: 0.0612 - accuracy: 0.9783\n",
      "Epoch 14: accuracy improved from 0.97498 to 0.97832, saving model to ./unet_model.h5\n",
      "75/75 [==============================] - 20s 272ms/step - loss: 0.0612 - accuracy: 0.9783 - val_loss: 0.1908 - val_accuracy: 0.9504\n",
      "Epoch 15/50\n",
      "75/75 [==============================] - ETA: 0s - loss: 0.0573 - accuracy: 0.9825\n",
      "Epoch 15: accuracy improved from 0.97832 to 0.98249, saving model to ./unet_model.h5\n",
      "75/75 [==============================] - 20s 274ms/step - loss: 0.0573 - accuracy: 0.9825 - val_loss: 0.1744 - val_accuracy: 0.9534\n",
      "Epoch 16/50\n",
      "75/75 [==============================] - ETA: 0s - loss: 0.0466 - accuracy: 0.9829\n",
      "Epoch 16: accuracy improved from 0.98249 to 0.98290, saving model to ./unet_model.h5\n",
      "75/75 [==============================] - 20s 274ms/step - loss: 0.0466 - accuracy: 0.9829 - val_loss: 0.1966 - val_accuracy: 0.9495\n",
      "Epoch 17/50\n",
      "75/75 [==============================] - ETA: 0s - loss: 0.0556 - accuracy: 0.9821\n",
      "Epoch 17: accuracy did not improve from 0.98290\n",
      "75/75 [==============================] - 20s 270ms/step - loss: 0.0556 - accuracy: 0.9821 - val_loss: 0.1761 - val_accuracy: 0.9524\n",
      "Epoch 18/50\n",
      "75/75 [==============================] - ETA: 0s - loss: 0.0498 - accuracy: 0.9791\n",
      "Epoch 18: accuracy did not improve from 0.98290\n",
      "75/75 [==============================] - 20s 270ms/step - loss: 0.0498 - accuracy: 0.9791 - val_loss: 0.1790 - val_accuracy: 0.9582\n",
      "Epoch 19/50\n",
      "75/75 [==============================] - ETA: 0s - loss: 0.0391 - accuracy: 0.9850\n",
      "Epoch 19: accuracy improved from 0.98290 to 0.98499, saving model to ./unet_model.h5\n",
      "75/75 [==============================] - 21s 275ms/step - loss: 0.0391 - accuracy: 0.9850 - val_loss: 0.1615 - val_accuracy: 0.9582\n",
      "Epoch 20/50\n",
      "75/75 [==============================] - ETA: 0s - loss: 0.0533 - accuracy: 0.9825\n",
      "Epoch 20: accuracy did not improve from 0.98499\n",
      "75/75 [==============================] - 20s 269ms/step - loss: 0.0533 - accuracy: 0.9825 - val_loss: 0.1759 - val_accuracy: 0.9543\n",
      "Epoch 21/50\n",
      "75/75 [==============================] - ETA: 0s - loss: 0.0429 - accuracy: 0.9850\n",
      "Epoch 21: accuracy did not improve from 0.98499\n",
      "75/75 [==============================] - 20s 268ms/step - loss: 0.0429 - accuracy: 0.9850 - val_loss: 0.1641 - val_accuracy: 0.9543\n",
      "Epoch 22/50\n",
      "75/75 [==============================] - ETA: 0s - loss: 0.0372 - accuracy: 0.9846\n",
      "Epoch 22: accuracy did not improve from 0.98499\n",
      "75/75 [==============================] - 20s 269ms/step - loss: 0.0372 - accuracy: 0.9846 - val_loss: 0.2575 - val_accuracy: 0.9436\n",
      "Epoch 23/50\n",
      "75/75 [==============================] - ETA: 0s - loss: 0.0328 - accuracy: 0.9883\n",
      "Epoch 23: accuracy improved from 0.98499 to 0.98832, saving model to ./unet_model.h5\n",
      "75/75 [==============================] - 20s 273ms/step - loss: 0.0328 - accuracy: 0.9883 - val_loss: 0.1806 - val_accuracy: 0.9514\n",
      "Epoch 24/50\n",
      "75/75 [==============================] - ETA: 0s - loss: 0.0207 - accuracy: 0.9925\n",
      "Epoch 24: accuracy improved from 0.98832 to 0.99249, saving model to ./unet_model.h5\n",
      "75/75 [==============================] - 20s 273ms/step - loss: 0.0207 - accuracy: 0.9925 - val_loss: 0.1719 - val_accuracy: 0.9582\n",
      "Epoch 25/50\n",
      "75/75 [==============================] - ETA: 0s - loss: 0.0263 - accuracy: 0.9900\n",
      "Epoch 25: accuracy did not improve from 0.99249\n",
      "75/75 [==============================] - 20s 269ms/step - loss: 0.0263 - accuracy: 0.9900 - val_loss: 0.1428 - val_accuracy: 0.9592\n",
      "Epoch 26/50\n",
      "75/75 [==============================] - ETA: 0s - loss: 0.0218 - accuracy: 0.9904\n",
      "Epoch 26: accuracy did not improve from 0.99249\n",
      "75/75 [==============================] - 20s 269ms/step - loss: 0.0218 - accuracy: 0.9904 - val_loss: 0.1727 - val_accuracy: 0.9582\n",
      "Epoch 27/50\n",
      "75/75 [==============================] - ETA: 0s - loss: 0.0244 - accuracy: 0.9900\n",
      "Epoch 27: accuracy did not improve from 0.99249\n",
      "75/75 [==============================] - 20s 270ms/step - loss: 0.0244 - accuracy: 0.9900 - val_loss: 0.1540 - val_accuracy: 0.9563\n",
      "Epoch 28/50\n",
      "75/75 [==============================] - ETA: 0s - loss: 0.0267 - accuracy: 0.9904\n",
      "Epoch 28: accuracy did not improve from 0.99249\n",
      "75/75 [==============================] - 20s 270ms/step - loss: 0.0267 - accuracy: 0.9904 - val_loss: 0.1552 - val_accuracy: 0.9572\n",
      "Epoch 29/50\n",
      "75/75 [==============================] - ETA: 0s - loss: 0.0226 - accuracy: 0.9925\n",
      "Epoch 29: accuracy did not improve from 0.99249\n",
      "75/75 [==============================] - 20s 270ms/step - loss: 0.0226 - accuracy: 0.9925 - val_loss: 0.1804 - val_accuracy: 0.9572\n",
      "Epoch 30/50\n",
      "75/75 [==============================] - ETA: 0s - loss: 0.0134 - accuracy: 0.9946\n",
      "Epoch 30: accuracy improved from 0.99249 to 0.99458, saving model to ./unet_model.h5\n",
      "75/75 [==============================] - 20s 273ms/step - loss: 0.0134 - accuracy: 0.9946 - val_loss: 0.1566 - val_accuracy: 0.9660\n",
      "Epoch 31/50\n",
      "75/75 [==============================] - ETA: 0s - loss: 0.0173 - accuracy: 0.9937\n",
      "Epoch 31: accuracy did not improve from 0.99458\n",
      "75/75 [==============================] - 20s 269ms/step - loss: 0.0173 - accuracy: 0.9937 - val_loss: 0.1714 - val_accuracy: 0.9572\n",
      "Epoch 32/50\n",
      "75/75 [==============================] - ETA: 0s - loss: 0.0226 - accuracy: 0.9937\n",
      "Epoch 32: accuracy did not improve from 0.99458\n",
      "75/75 [==============================] - 20s 270ms/step - loss: 0.0226 - accuracy: 0.9937 - val_loss: 0.1590 - val_accuracy: 0.9582\n",
      "Epoch 33/50\n",
      "75/75 [==============================] - ETA: 0s - loss: 0.0155 - accuracy: 0.9950\n",
      "Epoch 33: accuracy improved from 0.99458 to 0.99500, saving model to ./unet_model.h5\n",
      "75/75 [==============================] - 20s 274ms/step - loss: 0.0155 - accuracy: 0.9950 - val_loss: 0.1713 - val_accuracy: 0.9553\n",
      "Epoch 34/50\n",
      "75/75 [==============================] - ETA: 0s - loss: 0.0100 - accuracy: 0.9967\n",
      "Epoch 34: accuracy improved from 0.99500 to 0.99666, saving model to ./unet_model.h5\n",
      "75/75 [==============================] - 20s 274ms/step - loss: 0.0100 - accuracy: 0.9967 - val_loss: 0.1368 - val_accuracy: 0.9660\n",
      "Epoch 35/50\n",
      "75/75 [==============================] - ETA: 0s - loss: 0.0097 - accuracy: 0.9958\n",
      "Epoch 35: accuracy did not improve from 0.99666\n",
      "75/75 [==============================] - 20s 269ms/step - loss: 0.0097 - accuracy: 0.9958 - val_loss: 0.1677 - val_accuracy: 0.9611\n",
      "Epoch 36/50\n",
      "75/75 [==============================] - ETA: 0s - loss: 0.0201 - accuracy: 0.9933\n",
      "Epoch 36: accuracy did not improve from 0.99666\n",
      "75/75 [==============================] - 20s 270ms/step - loss: 0.0201 - accuracy: 0.9933 - val_loss: 0.1874 - val_accuracy: 0.9592\n",
      "Epoch 37/50\n",
      "75/75 [==============================] - ETA: 0s - loss: 0.0074 - accuracy: 0.9987\n",
      "Epoch 37: accuracy improved from 0.99666 to 0.99875, saving model to ./unet_model.h5\n",
      "75/75 [==============================] - 20s 273ms/step - loss: 0.0074 - accuracy: 0.9987 - val_loss: 0.1919 - val_accuracy: 0.9602\n",
      "Epoch 38/50\n",
      "75/75 [==============================] - ETA: 0s - loss: 0.0300 - accuracy: 0.9917\n",
      "Epoch 38: accuracy did not improve from 0.99875\n",
      "75/75 [==============================] - 20s 269ms/step - loss: 0.0300 - accuracy: 0.9917 - val_loss: 0.1929 - val_accuracy: 0.9563\n",
      "Epoch 39/50\n",
      "75/75 [==============================] - ETA: 0s - loss: 0.0219 - accuracy: 0.9929\n",
      "Epoch 39: accuracy did not improve from 0.99875\n",
      "75/75 [==============================] - 20s 270ms/step - loss: 0.0219 - accuracy: 0.9929 - val_loss: 0.1913 - val_accuracy: 0.9650\n",
      "Epoch 40/50\n",
      "75/75 [==============================] - ETA: 0s - loss: 0.0196 - accuracy: 0.9937\n",
      "Epoch 40: accuracy did not improve from 0.99875\n",
      "75/75 [==============================] - 20s 270ms/step - loss: 0.0196 - accuracy: 0.9937 - val_loss: 0.2972 - val_accuracy: 0.9543\n",
      "Epoch 41/50\n",
      "75/75 [==============================] - ETA: 0s - loss: 0.0117 - accuracy: 0.9950\n",
      "Epoch 41: accuracy did not improve from 0.99875\n",
      "75/75 [==============================] - 20s 270ms/step - loss: 0.0117 - accuracy: 0.9950 - val_loss: 0.2137 - val_accuracy: 0.9592\n",
      "Epoch 42/50\n",
      "75/75 [==============================] - ETA: 0s - loss: 0.0071 - accuracy: 0.9983\n",
      "Epoch 42: accuracy did not improve from 0.99875\n",
      "75/75 [==============================] - 20s 270ms/step - loss: 0.0071 - accuracy: 0.9983 - val_loss: 0.2071 - val_accuracy: 0.9582\n",
      "Epoch 43/50\n",
      "75/75 [==============================] - ETA: 0s - loss: 0.0097 - accuracy: 0.9967\n",
      "Epoch 43: accuracy did not improve from 0.99875\n",
      "75/75 [==============================] - 20s 270ms/step - loss: 0.0097 - accuracy: 0.9967 - val_loss: 0.2215 - val_accuracy: 0.9553\n",
      "Epoch 44/50\n",
      "75/75 [==============================] - ETA: 0s - loss: 0.0125 - accuracy: 0.9967\n",
      "Epoch 44: accuracy did not improve from 0.99875\n",
      "75/75 [==============================] - 20s 269ms/step - loss: 0.0125 - accuracy: 0.9967 - val_loss: 0.2377 - val_accuracy: 0.9563\n",
      "Epoch 45/50\n",
      "75/75 [==============================] - ETA: 0s - loss: 0.0112 - accuracy: 0.9967\n",
      "Epoch 45: accuracy did not improve from 0.99875\n",
      "75/75 [==============================] - 20s 270ms/step - loss: 0.0112 - accuracy: 0.9967 - val_loss: 0.2203 - val_accuracy: 0.9504\n",
      "Epoch 46/50\n",
      "75/75 [==============================] - ETA: 0s - loss: 0.0163 - accuracy: 0.9958\n",
      "Epoch 46: accuracy did not improve from 0.99875\n",
      "75/75 [==============================] - 20s 270ms/step - loss: 0.0163 - accuracy: 0.9958 - val_loss: 0.1984 - val_accuracy: 0.9621\n",
      "Epoch 47/50\n",
      "75/75 [==============================] - ETA: 0s - loss: 0.0057 - accuracy: 0.9983\n",
      "Epoch 47: accuracy did not improve from 0.99875\n",
      "75/75 [==============================] - 20s 270ms/step - loss: 0.0057 - accuracy: 0.9983 - val_loss: 0.2219 - val_accuracy: 0.9543\n",
      "Epoch 48/50\n",
      "75/75 [==============================] - ETA: 0s - loss: 0.0130 - accuracy: 0.9954\n",
      "Epoch 48: accuracy did not improve from 0.99875\n",
      "75/75 [==============================] - 20s 270ms/step - loss: 0.0130 - accuracy: 0.9954 - val_loss: 0.2461 - val_accuracy: 0.9592\n",
      "Epoch 49/50\n",
      "75/75 [==============================] - ETA: 0s - loss: 0.0165 - accuracy: 0.9925\n",
      "Epoch 49: accuracy did not improve from 0.99875\n",
      "75/75 [==============================] - 20s 270ms/step - loss: 0.0165 - accuracy: 0.9925 - val_loss: 0.1958 - val_accuracy: 0.9621\n",
      "Epoch 50/50\n",
      "75/75 [==============================] - ETA: 0s - loss: 0.0095 - accuracy: 0.9962\n",
      "Epoch 50: accuracy did not improve from 0.99875\n",
      "75/75 [==============================] - 20s 270ms/step - loss: 0.0095 - accuracy: 0.9962 - val_loss: 0.1859 - val_accuracy: 0.9650\n"
     ]
    }
   ],
   "source": [
    "import cv2\n",
    "import numpy as np\n",
    "from PIL import Image\n",
    "import matplotlib.pyplot as plt\n",
    "from tensorflow import keras\n",
    "import os\n",
    "import cv2\n",
    "import timeit\n",
    "import numpy as np \n",
    "import pandas as pd\n",
    "from PIL import Image\n",
    "from tensorflow import keras\n",
    "import tensorflow as tf\n",
    "from keras import Model\n",
    "import matplotlib.pyplot as plt\n",
    "from keras.metrics import MeanIoU\n",
    "from keras.callbacks import ModelCheckpoint\n",
    "from tensorflow.keras.models import Sequential \n",
    "from tensorflow.keras.optimizers import SGD,Adam\n",
    "from sklearn.model_selection import train_test_split\n",
    "from tensorflow.keras.callbacks import EarlyStopping, ModelCheckpoint\n",
    "from tensorflow.keras.preprocessing.image import load_img ,img_to_array\n",
    "from sklearn.metrics import accuracy_score, confusion_matrix, roc_curve, roc_auc_score, classification_report\n",
    "from tensorflow.keras.layers import MaxPooling2D,BatchNormalization,Conv2D,Dense,Activation,Conv2DTranspose,Input\n",
    "from tensorflow.keras.layers import Input, Activation, BatchNormalization, Dropout, Lambda, Conv2D\n",
    "from tensorflow.keras.layers import Conv2DTranspose, MaxPooling2D, concatenate, AveragePooling2D, Dense, Flatten\n",
    "from tensorflow.keras.optimizers import Adam\n",
    "from tensorflow.keras.callbacks import EarlyStopping, ModelCheckpoint, ReduceLROnPlateau\n",
    "from tensorflow.keras import backend as K\n",
    "from tensorflow.keras.layers import Flatten,Dropout,SpatialDropout2D,AveragePooling2D,GlobalAveragePooling2D,Concatenate\n",
    "\n",
    "from keras.layers import BatchNormalization\n",
    "from keras.models import Sequential\n",
    "from keras.layers import LeakyReLU\n",
    "from tensorflow.keras.optimizers import Adam\n",
    "from keras.layers import Flatten\n",
    "from keras.layers import Dense\n",
    "from IPython.display import Image, display\n",
    "# preprocessing and processing\n",
    "import numpy as np\n",
    "import pandas as pd\n",
    "from sklearn.preprocessing import LabelEncoder\n",
    "from tensorflow.keras.utils import to_categorical\n",
    "# ploting\n",
    "import matplotlib.pyplot as plt\n",
    "import plotly.graph_objects as go\n",
    "from tensorflow.keras.utils import plot_model\n",
    "# split data\n",
    "from sklearn.model_selection import train_test_split\n",
    "# CNN\n",
    "from keras import models, layers\n",
    "# val\n",
    "from sklearn.metrics import accuracy_score\n",
    "from sklearn.metrics import classification_report\n",
    "\n",
    "\n",
    "\n",
    "\n",
    "from tensorflow.keras.optimizers import SGD\n",
    "\n",
    "from keras.callbacks import EarlyStopping,ModelCheckpoint\n",
    "\n",
    "from keras.layers import MaxPool2D\n",
    "\n",
    "from keras.callbacks import ModelCheckpoint\n",
    "checkp = ModelCheckpoint('./unet_model.h5', monitor = 'accuracy', save_best_only = True, verbose = 1)\n",
    "\n",
    "vgg19 = keras.applications.vgg19\n",
    "conv_model = vgg19.VGG19(weights='imagenet', include_top=False, input_shape=(224,224,3))\n",
    "for layer in conv_model.layers: \n",
    "    layer.trainable = False\n",
    "x = keras.layers.Flatten()(conv_model.output)\n",
    "x = keras.layers.BatchNormalization()(x)\n",
    "x = keras.layers.Dense(128, activation='relu')(x)\n",
    "x = keras.layers.Dropout(.2)(x)\n",
    "x = keras.layers.Dense(64, activation='relu')(x)\n",
    "x = keras.layers.Dropout(.2)(x)\n",
    "x = keras.layers.Dense(132, activation='relu')(x)\n",
    "predictions = keras.layers.Dense(4, activation='softmax')(x)\n",
    "full_model = keras.models.Model(inputs=conv_model.input, outputs=predictions)\n",
    "full_model.summary()\n",
    "full_model.compile(loss='categorical_crossentropy',\n",
    "                  optimizer=keras.optimizers.Adamax(lr=0.001),\n",
    "                  metrics=['accuracy'],)\n",
    "\n",
    "history = full_model.fit(X_train, y_train, batch_size =32, epochs = 50, validation_data = (X_test, y_test),   workers=10, callbacks = [checkp])"
   ]
  },
  {
   "cell_type": "code",
   "execution_count": 14,
   "id": "98d4df6a",
   "metadata": {
    "execution": {
     "iopub.execute_input": "2023-02-22T12:28:58.076861Z",
     "iopub.status.busy": "2023-02-22T12:28:58.076522Z",
     "iopub.status.idle": "2023-02-22T12:28:58.396010Z",
     "shell.execute_reply": "2023-02-22T12:28:58.395073Z"
    },
    "papermill": {
     "duration": 0.533546,
     "end_time": "2023-02-22T12:28:58.398222",
     "exception": false,
     "start_time": "2023-02-22T12:28:57.864676",
     "status": "completed"
    },
    "tags": []
   },
   "outputs": [
    {
     "data": {
      "image/png": "[encoded data removed]",
      "text/plain": [
       "<Figure size 640x480 with 1 Axes>"
      ]
     },
     "metadata": {},
     "output_type": "display_data"
    }
   ],
   "source": [
    "k = ''\n",
    "if 'accuracy' in history.history :\n",
    "    k = 'accuracy'    \n",
    "\n",
    "if 'acc' in history.history :\n",
    "    k = 'acc'\n",
    "    \n",
    "if k != '' :    \n",
    "    plt.plot(history.history[k])\n",
    "    plt.plot(history.history['val_'+k])\n",
    "    plt.title('Model Accuracy')\n",
    "    plt.ylabel('Accuracy')\n",
    "    plt.xlabel('Epoch')\n",
    "    plt.legend(['train', 'test'], loc='upper left')\n",
    "    plt.show()"
   ]
  },
  {
   "cell_type": "code",
   "execution_count": 15,
   "id": "92f0afc3",
   "metadata": {
    "execution": {
     "iopub.execute_input": "2023-02-22T12:28:58.823951Z",
     "iopub.status.busy": "2023-02-22T12:28:58.822844Z",
     "iopub.status.idle": "2023-02-22T12:28:59.030840Z",
     "shell.execute_reply": "2023-02-22T12:28:59.029964Z"
    },
    "papermill": {
     "duration": 0.422076,
     "end_time": "2023-02-22T12:28:59.032956",
     "exception": false,
     "start_time": "2023-02-22T12:28:58.610880",
     "status": "completed"
    },
    "tags": []
   },
   "outputs": [
    {
     "data": {
      "image/png": "[encoded data removed]",
      "text/plain": [
       "<Figure size 640x480 with 1 Axes>"
      ]
     },
     "metadata": {},
     "output_type": "display_data"
    }
   ],
   "source": [
    "# dictionary keys seems to have changed in version 2\n",
    "k = ''\n",
    "if 'accuracy' in history.history :\n",
    "    k = 'accuracy'    \n",
    "\n",
    "if 'acc' in history.history :\n",
    "    k = 'acc'\n",
    "    \n",
    "if k != '' :    \n",
    "    plt.plot(history.history[k])\n",
    "    plt.plot(history.history['val_'+k])\n",
    "    plt.title('Model Accuracy')\n",
    "    plt.ylabel('Accuracy')\n",
    "    plt.xlabel('Epoch')\n",
    "    plt.legend(['train', 'test'], loc='upper left')\n",
    "    plt.show()"
   ]
  },
  {
   "cell_type": "code",
   "execution_count": 16,
   "id": "76403e9d",
   "metadata": {
    "execution": {
     "iopub.execute_input": "2023-02-22T12:28:59.564404Z",
     "iopub.status.busy": "2023-02-22T12:28:59.563908Z",
     "iopub.status.idle": "2023-02-22T12:28:59.843904Z",
     "shell.execute_reply": "2023-02-22T12:28:59.842826Z"
    },
    "papermill": {
     "duration": 0.602506,
     "end_time": "2023-02-22T12:28:59.847178",
     "exception": false,
     "start_time": "2023-02-22T12:28:59.244672",
     "status": "completed"
    },
    "tags": []
   },
   "outputs": [],
   "source": [
    "full_model.save(\"finalunet.h5\")"
   ]
  },
  {
   "cell_type": "code",
   "execution_count": 17,
   "id": "83d91c01",
   "metadata": {
    "execution": {
     "iopub.execute_input": "2023-02-22T12:29:00.516702Z",
     "iopub.status.busy": "2023-02-22T12:29:00.516301Z",
     "iopub.status.idle": "2023-02-22T12:29:08.527225Z",
     "shell.execute_reply": "2023-02-22T12:29:08.526297Z"
    },
    "papermill": {
     "duration": 8.353056,
     "end_time": "2023-02-22T12:29:08.529104",
     "exception": false,
     "start_time": "2023-02-22T12:29:00.176048",
     "status": "completed"
    },
    "tags": []
   },
   "outputs": [
    {
     "name": "stderr",
     "output_type": "stream",
     "text": [
      "2023-02-22 12:29:01.170366: W tensorflow/core/framework/cpu_allocator_impl.cc:82] Allocation of 619573248 exceeds 10% of free system memory.\n"
     ]
    },
    {
     "name": "stdout",
     "output_type": "stream",
     "text": [
      "33/33 [==============================] - 6s 181ms/step\n"
     ]
    }
   ],
   "source": [
    "y_pred = full_model.predict(X_test)"
   ]
  },
  {
   "cell_type": "code",
   "execution_count": 18,
   "id": "9f4764ae",
   "metadata": {
    "execution": {
     "iopub.execute_input": "2023-02-22T12:29:08.970735Z",
     "iopub.status.busy": "2023-02-22T12:29:08.970395Z",
     "iopub.status.idle": "2023-02-22T12:29:08.975354Z",
     "shell.execute_reply": "2023-02-22T12:29:08.974394Z"
    },
    "papermill": {
     "duration": 0.224578,
     "end_time": "2023-02-22T12:29:08.977469",
     "exception": false,
     "start_time": "2023-02-22T12:29:08.752891",
     "status": "completed"
    },
    "tags": []
   },
   "outputs": [],
   "source": [
    "y_pred = np.argmax(y_pred, axis = 1)\n",
    "y_test = np.argmax(y_test, axis = 1)"
   ]
  },
  {
   "cell_type": "code",
   "execution_count": 19,
   "id": "a6626f0a",
   "metadata": {
    "execution": {
     "iopub.execute_input": "2023-02-22T12:29:09.420135Z",
     "iopub.status.busy": "2023-02-22T12:29:09.419766Z",
     "iopub.status.idle": "2023-02-22T12:29:09.432625Z",
     "shell.execute_reply": "2023-02-22T12:29:09.431158Z"
    },
    "papermill": {
     "duration": 0.241427,
     "end_time": "2023-02-22T12:29:09.435530",
     "exception": false,
     "start_time": "2023-02-22T12:29:09.194103",
     "status": "completed"
    },
    "tags": []
   },
   "outputs": [
    {
     "name": "stdout",
     "output_type": "stream",
     "text": [
      "Accuracy : 0.9650145772594753\n",
      "              precision    recall  f1-score   support\n",
      "\n",
      "           0       0.95      0.96      0.95       320\n",
      "           1       0.93      0.92      0.93       213\n",
      "           2       0.99      0.99      0.99       295\n",
      "           3       0.99      0.98      0.98       201\n",
      "\n",
      "    accuracy                           0.97      1029\n",
      "   macro avg       0.96      0.96      0.96      1029\n",
      "weighted avg       0.97      0.97      0.97      1029\n",
      "\n"
     ]
    }
   ],
   "source": [
    "print('Accuracy : ' + str(accuracy_score(y_test, y_pred)))\n",
    "# print(classification_report(y_test, y_pred, target_names = info))\n",
    "print(classification_report(y_test, y_pred))"
   ]
  },
  {
   "cell_type": "code",
   "execution_count": 20,
   "id": "256d77fa",
   "metadata": {
    "execution": {
     "iopub.execute_input": "2023-02-22T12:29:09.909465Z",
     "iopub.status.busy": "2023-02-22T12:29:09.908526Z",
     "iopub.status.idle": "2023-02-22T12:29:09.921862Z",
     "shell.execute_reply": "2023-02-22T12:29:09.920969Z"
    },
    "papermill": {
     "duration": 0.270892,
     "end_time": "2023-02-22T12:29:09.924391",
     "exception": false,
     "start_time": "2023-02-22T12:29:09.653499",
     "status": "completed"
    },
    "tags": []
   },
   "outputs": [],
   "source": [
    "cm = confusion_matrix(y_test,y_pred)"
   ]
  },
  {
   "cell_type": "code",
   "execution_count": 21,
   "id": "f26d6c29",
   "metadata": {
    "execution": {
     "iopub.execute_input": "2023-02-22T12:29:10.351394Z",
     "iopub.status.busy": "2023-02-22T12:29:10.351050Z",
     "iopub.status.idle": "2023-02-22T12:29:11.077120Z",
     "shell.execute_reply": "2023-02-22T12:29:11.076109Z"
    },
    "papermill": {
     "duration": 0.941033,
     "end_time": "2023-02-22T12:29:11.079433",
     "exception": false,
     "start_time": "2023-02-22T12:29:10.138400",
     "status": "completed"
    },
    "tags": []
   },
   "outputs": [
    {
     "data": {
      "text/plain": [
       "Text(0.5, 192.72222222222217, 'Predicted')"
      ]
     },
     "execution_count": 21,
     "metadata": {},
     "output_type": "execute_result"
    },
    {
     "data": {
      "image/png": "[encoded data removed]",
      "text/plain": [
       "<Figure size 1200x1200 with 2 Axes>"
      ]
     },
     "metadata": {},
     "output_type": "display_data"
    }
   ],
   "source": [
    "import pandas\n",
    "import seaborn\n",
    "info=['0','1','2','3']\n",
    "plt.figure(figsize = (12,12))\n",
    "ax = seaborn.heatmap(cm, cmap=plt.cm.Blues, annot=True, square=True, xticklabels = info, yticklabels = info)\n",
    "ax.set_ylabel('Actual', fontsize=40)\n",
    "ax.set_xlabel('Predicted', fontsize=40)"
   ]
  },
  {
   "cell_type": "code",
   "execution_count": null,
   "id": "0a4c6db9",
   "metadata": {
    "papermill": {
     "duration": 0.226586,
     "end_time": "2023-02-22T12:29:11.533325",
     "exception": false,
     "start_time": "2023-02-22T12:29:11.306739",
     "status": "completed"
    },
    "tags": []
   },
   "outputs": [],
   "source": []
  },
  {
   "cell_type": "code",
   "execution_count": null,
   "id": "ecf820c6",
   "metadata": {
    "papermill": {
     "duration": 0.217035,
     "end_time": "2023-02-22T12:29:11.971078",
     "exception": false,
     "start_time": "2023-02-22T12:29:11.754043",
     "status": "completed"
    },
    "tags": []
   },
   "outputs": [],
   "source": []
  }
 ],
 "metadata": {
  "kernelspec": {
   "display_name": "Python 3",
   "language": "python",
   "name": "python3"
  },
  "language_info": {
   "codemirror_mode": {
    "name": "ipython",
    "version": 3
   },
   "file_extension": ".py",
   "mimetype": "text/x-python",
   "name": "python",
   "nbconvert_exporter": "python",
   "pygments_lexer": "ipython3",
   "version": "3.7.12"
  },
  "papermill": {
   "default_parameters": {},
   "duration": 1195.533166,
   "end_time": "2023-02-22T12:29:15.943097",
   "environment_variables": {},
   "exception": null,
   "input_path": "__notebook__.ipynb",
   "output_path": "__notebook__.ipynb",
   "parameters": {},
   "start_time": "2023-02-22T12:09:20.409931",
   "version": "2.3.4"
  }
 },
 "nbformat": 4,
 "nbformat_minor": 5
}
